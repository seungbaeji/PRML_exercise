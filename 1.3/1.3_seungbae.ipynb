{
 "cells": [
  {
   "cell_type": "markdown",
   "metadata": {},
   "source": [
    "## Exercise 1.3\n",
    "\n",
    "Suppose that we have three coloured boxes r (red), b (blue), and g (green).\n",
    "\n",
    "Box r contains 3 apples, 4 oranges, and 3 limes, box b contains 1 apple, 1 orange, and 0 limes, and box g contains 3 apples, 3 oranges, and 4 limes. \n",
    "\n",
    "If a box is chosen at random with probabilities p(r) = 0.2, p(b) = 0.2, p(g) = 0.6, and a piece of fruit is removed from the box (with equal probability of selecting any of the items in the box), then <b>what is the probability of selecting an apple?</b> If we observe that <b>the selected fruit is in fact an orange</b>, what is <b>the probability that it came from the green box?</b>"
   ]
  },
  {
   "cell_type": "markdown",
   "metadata": {},
   "source": [
    "### Remind\n",
    "`Sum Rule`\n",
    "$$ p(a) = \\sum_{b}p(a,b)$$\n",
    "`Product Rule`\n",
    "$$ p(a, b) = p(a|b)p(b)$$\n",
    "`Bayes Theorem`\n",
    "$$ p(H|D) = \\frac{p(H)p(D|H)}{p(D)}$$"
   ]
  },
  {
   "cell_type": "markdown",
   "metadata": {},
   "source": [
    "### Questions\n",
    "\n",
    "Question 1) $$p(a) = p(a|r)p(r)+p(a|b)p(b)+p(a|g)p(g)$$\n",
    "\n",
    "Question 2) $$p(g|o) = \\frac{p(o|g)p(g)}{p(o)}$$"
   ]
  },
  {
   "cell_type": "markdown",
   "metadata": {},
   "source": [
    "## By Equation"
   ]
  },
  {
   "cell_type": "code",
   "execution_count": 1,
   "metadata": {
    "collapsed": true
   },
   "outputs": [],
   "source": [
    "prob_a_r = 3/10\n",
    "prob_a_b = 1/2\n",
    "prob_a_g = 3/10\n",
    "\n",
    "prob_o_r = 4/10\n",
    "prob_o_b = 1/2\n",
    "prob_o_g = 3/10\n",
    "\n",
    "prob_l_r = 3/10\n",
    "prob_l_b = 0\n",
    "prob_l_g = 4/10\n",
    "\n",
    "prob_r = 0.2\n",
    "prob_b = 0.2\n",
    "prob_g = 0.6"
   ]
  },
  {
   "cell_type": "markdown",
   "metadata": {},
   "source": [
    "Question 1)"
   ]
  },
  {
   "cell_type": "code",
   "execution_count": 2,
   "metadata": {},
   "outputs": [
    {
     "data": {
      "text/plain": [
       "0.33999999999999997"
      ]
     },
     "execution_count": 2,
     "metadata": {},
     "output_type": "execute_result"
    }
   ],
   "source": [
    "prob_a = (prob_a_r * prob_r) + (prob_a_b * prob_b) + (prob_a_g * prob_g)\n",
    "prob_a"
   ]
  },
  {
   "cell_type": "markdown",
   "metadata": {},
   "source": [
    "Question 2)"
   ]
  },
  {
   "cell_type": "code",
   "execution_count": 3,
   "metadata": {},
   "outputs": [
    {
     "data": {
      "text/plain": [
       "0.5"
      ]
     },
     "execution_count": 3,
     "metadata": {},
     "output_type": "execute_result"
    }
   ],
   "source": [
    "prob_o = (prob_o_r * prob_r) + (prob_o_b * prob_b) + (prob_o_g * prob_g)\n",
    "prob_g_o = (prob_o_g * prob_g) / prob_o\n",
    "prob_g_o"
   ]
  },
  {
   "cell_type": "markdown",
   "metadata": {},
   "source": [
    "## By Object-Oriented Viewpoint"
   ]
  },
  {
   "cell_type": "markdown",
   "metadata": {},
   "source": [
    "Fluent Python을 보면서 코드를 작성.<br>\n",
    "[**객체지향의 사실과 오해**](http://book.naver.com/bookdb/book_detail.nhn?bid=9145968)라는 책을 1장까지 읽고 따르려 노력.\n",
    "\n",
    "1. 객체지향의 목표는 실세계를 모방하는 것이 아니다. 새로운 세계를 창조하는 것.\n",
    "2. 그래도 실세계에서 모방할 점은, 사람들이 **\"협력\"**을 위해 특정한 **\"역할\"**을 맡고 역할에 적합한 **\"책임\"**을 수행 한다는 사실.\n",
    "3. 사람들은 스스로 해결하지 못하는 문제는 도움을 요청(request).\n",
    "4. 요청을 받은 사람은 필요한 지식이나 서비스를 통해 요청에 응답(response).\n",
    "5. **사람을 \"객체\"**, **요청을 \"메세지\"**, **요청을 처리하는 방법을 \"메서드\"**로 바꾸면 **\"객체지향\"**이라는 문맥으로 옮겨올 수 있음.\n",
    "6. 객체는 충분히 \"협력적\" 이어야 한다.\n",
    "7. 객체는 충분히 \"자율적\" 이어야 한다.\n",
    "8. 자율적이란, 자신의 **상태(state)를 직접 관리**하고, **상태를 기반으로 스스로 판단하고 행동**할 수 있음을 의미.\n",
    "9. 객체지향 세계에서는 **\"메세지\"라는 한 가지 의사소통 수단만이 존재**. 따라서 협력은 메세지를 전송하는 객체와 메세지를 수신하는 객체 사이의 관계로 구성.\n",
    "10. 메세지를 전송하는 객체를 송신자(sender)라 부르고, 수신하는 객체를 수신자(receiver)라고 부른다.\n",
    "11. 객체가 수신된 메세지를 처리하는 방법을 메서드(method)라고 부름.\n",
    "12. **\"메세지를 수신한 객체가 실행시간에 메서드를 선택\"**할 수 있다는 점은 다른 프로그래밍 언어와 객체지향 프로그래밍 언어를 구분 짓는 핵심특징 중 하나.\n",
    "13. 외부의 요청이 무엇인지 표현하는 메세지와 요청을 처리하기 위한 구체적인 방법인 메서드를 분리하는 것은 객체의 자율성을 높이기 위한 핵심 메커니즘. 이는 캡슐화(encapsulation)라는 개념과도 깊이 연관.\n",
    "14. 객체지향 설계자가 되기 위해서는 클래스 관점에서 **\"메세지를 주고받는 객체의 관점으로 사고의 중심을 전환\"**해야 한다.<br>\n",
    "p.s. Python에서는 함수(function)가 1급 객체(First-class citizen). 이것도 연관이 될 것으로 예상됨."
   ]
  },
  {
   "cell_type": "markdown",
   "metadata": {},
   "source": [
    "객체지향을 문제해결에 적용\n",
    "<pre>\n",
    "1. 객체\n",
    "    - 상자\n",
    "    - 통계학자\n",
    "\n",
    "2. 역할\n",
    "    - 상자의 역할: 과일저장\n",
    "    - 통계학자의 역할: 받은 상자들에 기반한 과일의 확률계산\n",
    "    \n",
    "3. 상태\n",
    "    - 상자의 상태: 과일종류, 각 과일별 갯수\n",
    "    - 통계학자의 상태: 과일 상자들, 상자를 고를 확률\n",
    "\n",
    "4. 응답\n",
    "    - 상자의 응답: 저장된 과일의 종류와 갯수\n",
    "    - 통계학자의 응답: 요청받은 확률의 계산 값\n",
    "\n",
    "5. 메세지\n",
    "    - 상자: 상자의 색, 과일종류, 과일갯수\n",
    "    - 통계학자: 확률종류, 과일종류, 상자의 확률 값\n",
    "</pre>"
   ]
  },
  {
   "cell_type": "code",
   "execution_count": 2,
   "metadata": {
    "collapsed": true
   },
   "outputs": [],
   "source": [
    "class Box(object):\n",
    "\n",
    "    def __init__(self, color, fruits={}):\n",
    "        assert (type(fruits) is dict), \"Fruit must be '{type : nums}'\"\n",
    "        self._color = color\n",
    "        self._fruits = fruits\n",
    "\n",
    "    def __repr__(self):\n",
    "        fmt = \"Box(color: {}, fruits: {})\"\n",
    "        return fmt.format(self._color, self._fruits)"
   ]
  },
  {
   "cell_type": "code",
   "execution_count": 3,
   "metadata": {},
   "outputs": [
    {
     "name": "stdout",
     "output_type": "stream",
     "text": [
      "Box(color: red, fruits: {'apple': 3, 'orange': 4, 'limes': 3})\n"
     ]
    }
   ],
   "source": [
    "boxes = [Box(\"red\",{'apple': 3, 'orange': 4, 'limes': 3}), Box(\"blue\", {'apple': 1, 'orange': 1, 'limes': 1}), Box(\"green\", {'apple': 3, 'orange': 3, 'limes': 4})]\n",
    "print(boxes[0])"
   ]
  },
  {
   "cell_type": "code",
   "execution_count": 4,
   "metadata": {},
   "outputs": [
    {
     "ename": "AssertionError",
     "evalue": "Fruit must be '{type : nums}'",
     "output_type": "error",
     "traceback": [
      "\u001b[1;31m---------------------------------------------------------------------------\u001b[0m",
      "\u001b[1;31mAssertionError\u001b[0m                            Traceback (most recent call last)",
      "\u001b[1;32m<ipython-input-4-2e27ce7428ca>\u001b[0m in \u001b[0;36m<module>\u001b[1;34m()\u001b[0m\n\u001b[1;32m----> 1\u001b[1;33m \u001b[0mBox\u001b[0m\u001b[1;33m(\u001b[0m\u001b[1;34m\"yellow\"\u001b[0m\u001b[1;33m,\u001b[0m \u001b[1;33m[\u001b[0m\u001b[1;33m[\u001b[0m\u001b[1;34m'apple'\u001b[0m\u001b[1;33m,\u001b[0m \u001b[1;36m3\u001b[0m\u001b[1;33m]\u001b[0m\u001b[1;33m,\u001b[0m \u001b[1;33m[\u001b[0m\u001b[1;34m'orange'\u001b[0m\u001b[1;33m,\u001b[0m \u001b[1;36m4\u001b[0m\u001b[1;33m]\u001b[0m\u001b[1;33m,\u001b[0m \u001b[1;33m[\u001b[0m\u001b[1;34m'limes'\u001b[0m\u001b[1;33m,\u001b[0m \u001b[1;36m3\u001b[0m\u001b[1;33m]\u001b[0m\u001b[1;33m]\u001b[0m\u001b[1;33m)\u001b[0m\u001b[1;33m\u001b[0m\u001b[0m\n\u001b[0m",
      "\u001b[1;32m<ipython-input-2-4972b26b3ccc>\u001b[0m in \u001b[0;36m__init__\u001b[1;34m(self, color, fruits)\u001b[0m\n\u001b[0;32m      2\u001b[0m \u001b[1;33m\u001b[0m\u001b[0m\n\u001b[0;32m      3\u001b[0m     \u001b[1;32mdef\u001b[0m \u001b[0m__init__\u001b[0m\u001b[1;33m(\u001b[0m\u001b[0mself\u001b[0m\u001b[1;33m,\u001b[0m \u001b[0mcolor\u001b[0m\u001b[1;33m,\u001b[0m \u001b[0mfruits\u001b[0m\u001b[1;33m=\u001b[0m\u001b[1;33m{\u001b[0m\u001b[1;33m}\u001b[0m\u001b[1;33m)\u001b[0m\u001b[1;33m:\u001b[0m\u001b[1;33m\u001b[0m\u001b[0m\n\u001b[1;32m----> 4\u001b[1;33m         \u001b[1;32massert\u001b[0m \u001b[1;33m(\u001b[0m\u001b[0mtype\u001b[0m\u001b[1;33m(\u001b[0m\u001b[0mfruits\u001b[0m\u001b[1;33m)\u001b[0m \u001b[1;32mis\u001b[0m \u001b[0mdict\u001b[0m\u001b[1;33m)\u001b[0m\u001b[1;33m,\u001b[0m \u001b[1;34m\"Fruit must be '{type : nums}'\"\u001b[0m\u001b[1;33m\u001b[0m\u001b[0m\n\u001b[0m\u001b[0;32m      5\u001b[0m         \u001b[0mself\u001b[0m\u001b[1;33m.\u001b[0m\u001b[0m_color\u001b[0m \u001b[1;33m=\u001b[0m \u001b[0mcolor\u001b[0m\u001b[1;33m\u001b[0m\u001b[0m\n\u001b[0;32m      6\u001b[0m         \u001b[0mself\u001b[0m\u001b[1;33m.\u001b[0m\u001b[0m_fruits\u001b[0m \u001b[1;33m=\u001b[0m \u001b[0mfruits\u001b[0m\u001b[1;33m\u001b[0m\u001b[0m\n",
      "\u001b[1;31mAssertionError\u001b[0m: Fruit must be '{type : nums}'"
     ]
    }
   ],
   "source": [
    "Box(\"yellow\", [['apple', 3], ['orange', 4], ['limes', 3]])"
   ]
  },
  {
   "cell_type": "code",
   "execution_count": 5,
   "metadata": {},
   "outputs": [
    {
     "name": "stdout",
     "output_type": "stream",
     "text": [
      "[Box(color: red, fruits: {'apple': 3, 'orange': 4, 'limes': 3}), Box(color: blue, fruits: {'apple': 1, 'orange': 1, 'limes': 1}), Box(color: green, fruits: {'apple': 3, 'orange': 3, 'limes': 4})]\n"
     ]
    }
   ],
   "source": [
    "print(boxes)"
   ]
  },
  {
   "cell_type": "code",
   "execution_count": 13,
   "metadata": {
    "collapsed": true
   },
   "outputs": [],
   "source": [
    "class Statistician(object):\n",
    "\n",
    "    def __init__(self, boxes=[], probs=[]):\n",
    "        assert (type(boxes) is list), \"Boxes must be '[Box(1), Box(2), ...]'\"\n",
    "        assert (type(probs) is list), \"probs must be '[prob of Box(1), prob of Box(2), ...]'\"\n",
    "        assert len(boxes) == len(probs)\n",
    "        self._boxes = boxes\n",
    "        self._probs = probs\n",
    "\n",
    "    def __repr__(self):\n",
    "        _info = [str(box) +\"'s prob is \"+ str(prob) for box, prob in zip(self._boxes, self._probs)]\n",
    "        fmt = \"Statistician({})\"\n",
    "        return fmt.format(_info)\n",
    "    \n",
    "    def calculate_prob(self, cate_prob):\n",
    "        return None"
   ]
  },
  {
   "cell_type": "code",
   "execution_count": 14,
   "metadata": {},
   "outputs": [
    {
     "data": {
      "text/plain": [
       "Statistician([\"Box(color: red, fruits: {'apple': 3, 'orange': 4, 'limes': 3})'s prob is 0.2\", \"Box(color: blue, fruits: {'apple': 1, 'orange': 1, 'limes': 1})'s prob is 0.2\", \"Box(color: green, fruits: {'apple': 3, 'orange': 3, 'limes': 4})'s prob is 0.6\"])"
      ]
     },
     "execution_count": 14,
     "metadata": {},
     "output_type": "execute_result"
    }
   ],
   "source": [
    "Statistician(boxes, [0.2, 0.2, 0.6])"
   ]
  },
  {
   "cell_type": "code",
   "execution_count": null,
   "metadata": {
    "collapsed": true
   },
   "outputs": [],
   "source": []
  },
  {
   "cell_type": "code",
   "execution_count": null,
   "metadata": {
    "collapsed": true
   },
   "outputs": [],
   "source": []
  },
  {
   "cell_type": "code",
   "execution_count": null,
   "metadata": {
    "collapsed": true
   },
   "outputs": [],
   "source": []
  },
  {
   "cell_type": "code",
   "execution_count": null,
   "metadata": {
    "collapsed": true
   },
   "outputs": [],
   "source": []
  }
 ],
 "metadata": {
  "kernelspec": {
   "display_name": "Python 3",
   "language": "python",
   "name": "python3"
  },
  "language_info": {
   "codemirror_mode": {
    "name": "ipython",
    "version": 3
   },
   "file_extension": ".py",
   "mimetype": "text/x-python",
   "name": "python",
   "nbconvert_exporter": "python",
   "pygments_lexer": "ipython3",
   "version": "3.6.2"
  }
 },
 "nbformat": 4,
 "nbformat_minor": 2
}
