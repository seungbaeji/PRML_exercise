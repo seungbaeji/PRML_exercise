{
 "cells": [
  {
   "cell_type": "markdown",
   "metadata": {},
   "source": [
    "## exercise 1.3\n",
    "\n",
    "Suppose that we have three coloured boxes r (red), b (blue), and g (green).\n",
    "\n",
    "Box r contains 3 apples, 4 oranges, and 3 limes, box b contains 1 apple, 1 orange, and 0 limes, and box g contains 3 apples, 3 oranges, and 4 limes. \n",
    "\n",
    "If a box is chosen at random with probabilities p(r) = 0.2, p(b) = 0.2, p(g) = 0.6, and a piece of fruit is removed from the box (with equal probability of selecting any of the items in the box), then <b>what is the probability of selecting an apple?</b> If we observe that <b>the selected fruit is in fact an orange</b>, what is <b>the probability that it came from the green box?</b>"
   ]
  },
  {
   "cell_type": "markdown",
   "metadata": {},
   "source": [
    "Question 1) $$p(a) = p(a|r)p(r)+p(a|b)p(b)+p(a|g)p(g)$$"
   ]
  },
  {
   "cell_type": "markdown",
   "metadata": {},
   "source": [
    "Question 2) $$p(g|o) = \\frac{p(o|g)p(g)}{p(o)}$$"
   ]
  },
  {
   "cell_type": "code",
   "execution_count": 1,
   "metadata": {
    "collapsed": true
   },
   "outputs": [],
   "source": [
    "import numpy as np"
   ]
  },
  {
   "cell_type": "code",
   "execution_count": 2,
   "metadata": {},
   "outputs": [
    {
     "ename": "SyntaxError",
     "evalue": "invalid syntax (<ipython-input-2-d7ccfff6e1f2>, line 20)",
     "output_type": "error",
     "traceback": [
      "\u001b[1;36m  File \u001b[1;32m\"<ipython-input-2-d7ccfff6e1f2>\"\u001b[1;36m, line \u001b[1;32m20\u001b[0m\n\u001b[1;33m    if\u001b[0m\n\u001b[1;37m       ^\u001b[0m\n\u001b[1;31mSyntaxError\u001b[0m\u001b[1;31m:\u001b[0m invalid syntax\n"
     ]
    }
   ],
   "source": [
    "class Box(object):\n",
    "    \n",
    "    def __init__(self, color):\n",
    "        self._color = color\n",
    "        self._fruits = {}\n",
    "    \n",
    "    def __repr__(self):\n",
    "        fmt = \"Box(color: {}, fruits: {})\"\n",
    "        return fmt.format(self._color, self._fruits)\n",
    "    \n",
    "    def set_fruites(self, fruits={}):\n",
    "        \"\"\"\n",
    "        Put the fruits to the box\n",
    "        :param fruits: \n",
    "        return\n",
    "        \"\"\"\n",
    "        assert (type(fruits) is dict), \"Fruit must be '{type : nums}'\"\n",
    "        self._fruits.update(fruits)\n",
    "        \n",
    "        if \n",
    "        \n",
    "\n",
    "    def get_fruites(self, fruits):\n",
    "        \"\"\"\n",
    "        \n",
    "        \"\"\"\n",
    "        self._fruits.remove(fruits)"
   ]
  },
  {
   "cell_type": "code",
   "execution_count": null,
   "metadata": {
    "collapsed": true
   },
   "outputs": [],
   "source": [
    "boxes = [Box(\"red\"), Box(\"blue\"), Box(\"green\")]\n",
    "print(boxes[0])"
   ]
  },
  {
   "cell_type": "code",
   "execution_count": null,
   "metadata": {
    "collapsed": true
   },
   "outputs": [],
   "source": [
    "boxes[0].set_fruites(['apple', 3])"
   ]
  },
  {
   "cell_type": "code",
   "execution_count": null,
   "metadata": {
    "collapsed": true
   },
   "outputs": [],
   "source": [
    "boxes[0].set_fruites()"
   ]
  },
  {
   "cell_type": "code",
   "execution_count": null,
   "metadata": {
    "collapsed": true
   },
   "outputs": [],
   "source": [
    "boxes[0].set_fruites({'apple': 3, 'orange': 4, 'limes': 3})\n",
    "print(boxes[0],'\\n',boxes[1])"
   ]
  },
  {
   "cell_type": "code",
   "execution_count": null,
   "metadata": {
    "collapsed": true
   },
   "outputs": [],
   "source": [
    "boxes[1].set_fruites({'apple': 1, 'orange': 1, 'limes': 1})\n",
    "boxes[2].set_fruites({'apple': 3, 'orange': 3, 'limes': 4})"
   ]
  },
  {
   "cell_type": "code",
   "execution_count": null,
   "metadata": {
    "collapsed": true
   },
   "outputs": [],
   "source": [
    "print(boxes)"
   ]
  },
  {
   "cell_type": "code",
   "execution_count": null,
   "metadata": {
    "collapsed": true
   },
   "outputs": [],
   "source": [
    "boxes[1].set_fruites({'apple': 0})\n",
    "print(boxes[1])"
   ]
  },
  {
   "cell_type": "code",
   "execution_count": null,
   "metadata": {
    "collapsed": true
   },
   "outputs": [],
   "source": []
  },
  {
   "cell_type": "code",
   "execution_count": null,
   "metadata": {
    "collapsed": true
   },
   "outputs": [],
   "source": []
  }
 ],
 "metadata": {
  "kernelspec": {
   "display_name": "Python 3",
   "language": "python",
   "name": "python3"
  },
  "language_info": {
   "codemirror_mode": {
    "name": "ipython",
    "version": 3
   },
   "file_extension": ".py",
   "mimetype": "text/x-python",
   "name": "python",
   "nbconvert_exporter": "python",
   "pygments_lexer": "ipython3",
   "version": "3.6.2"
  }
 },
 "nbformat": 4,
 "nbformat_minor": 2
}
